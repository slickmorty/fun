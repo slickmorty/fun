{
 "cells": [
  {
   "cell_type": "code",
   "execution_count": 1,
   "metadata": {},
   "outputs": [],
   "source": [
    "import requests\n",
    "from bs4 import BeautifulSoup"
   ]
  },
  {
   "cell_type": "code",
   "execution_count": 4,
   "metadata": {},
   "outputs": [],
   "source": [
    "page=requests.get(\"https://dictionary.obspm.fr/index.php?showAll=1&&search=A&&formSearchTextfield=&&page=0\")\n",
    "page.encoding = \"utf-8\""
   ]
  },
  {
   "cell_type": "code",
   "execution_count": 11,
   "metadata": {},
   "outputs": [],
   "source": [
    "letters = \"abcdefghijklmnopqrstuvwxyz\""
   ]
  },
  {
   "cell_type": "code",
   "execution_count": 12,
   "metadata": {},
   "outputs": [],
   "source": [
    "html_page =  page.text\n",
    "\n",
    "soup = BeautifulSoup(html_page,\"lxml\")"
   ]
  },
  {
   "cell_type": "code",
   "execution_count": 13,
   "metadata": {},
   "outputs": [],
   "source": [
    "table = soup.find(id=\"result-table\")\n",
    "# print(table.prettify())# type: ignore\n",
    "\n",
    "rows = table.find_all(\"tr\") # type: ignore"
   ]
  },
  {
   "cell_type": "code",
   "execution_count": 31,
   "metadata": {},
   "outputs": [
    {
     "name": "stdout",
     "output_type": "stream",
     "text": [
      "Suffix forming adjectives with  meanings \"capable of, susceptible of, \n",
      "worthy of, tending to.\"\n"
     ]
    }
   ],
   "source": [
    "print(first.find(class_=\"marginTop description\").text) # type: ignore"
   ]
  },
  {
   "cell_type": "code",
   "execution_count": 28,
   "metadata": {},
   "outputs": [
    {
     "name": "stdout",
     "output_type": "stream",
     "text": [
      "<tr>\n",
      " <td class=\"row1\">\n",
      "  <div class=\"title0\">\n",
      "   <span class=\"term\">\n",
      "    -able, -ble, -ible\n",
      "   </span>\n",
      "   <button class=\"show button left\" style='background-image:url(\"images/chart.png\");background-color:transparent;background-repeat:no-repeat;border:none;width:82px;height:37px;' title=\"chart\" x-id=\"rowid1\" x-term=\"-able%2C+-ble%2C+-ible\">\n",
      "   </button>\n",
      "   <div class=\"show-chart\" id=\"chart-rowid1\" x-id=\"rowid1\" x-term=\"-able%2C+-ble%2C+-ible\">\n",
      "    <iframe src=\"https://lerma.obspm.fr/dictionary/graph/concept/4234664/depth/1\" style=\"width:100%\">\n",
      "    </iframe>\n",
      "   </div>\n",
      "  </div>\n",
      "  <div class=\"title2\">\n",
      "   <!-- BEGIN FARSI -->\n",
      "   <bde dir='\\\"rtl\\\"'>\n",
      "    <bdo dir=\"rtl\">\n",
      "     -یی، -پذیر\n",
      "    </bdo>\n",
      "   </bde>\n",
      "   <!-- END FARSI -->\n",
      "  </div>\n",
      "  <div class=\"title1\">\n",
      "   -i (#), -pazir (#)\n",
      "  </div>\n",
      "  <br/>\n",
      "  <div class=\"title3\">\n",
      "   <i>\n",
      "    Fr.: -able, -ble, -ible\n",
      "   </i>\n",
      "  </div>\n",
      "  <p class=\"marginTop description\">\n",
      "   Suffix forming adjectives with  meanings \"capable of, susceptible of, \n",
      "worthy of, tending to.\"\n",
      "  </p>\n",
      "  <p class=\"marginTop ety_EN\">\n",
      "   M.E., from O.Fr., from L.\n",
      "   <i>\n",
      "    -abilis, -ibilis\n",
      "   </i>\n",
      "   , from\n",
      "   <i>\n",
      "    -a-\n",
      "   </i>\n",
      "   and\n",
      "   <i>\n",
      "    -i-\n",
      "   </i>\n",
      "   +\n",
      "   <i>\n",
      "    -bilis\n",
      "   </i>\n",
      "   .\n",
      "  </p>\n",
      "  <p class=\"marginTop ety_PE\">\n",
      "   The capability suffix\n",
      "   <i>\n",
      "    -i\n",
      "   </i>\n",
      "   is added to the infinitive form.\n",
      "   <br/>\n",
      "   <i>\n",
      "    -pazir\n",
      "   </i>\n",
      "   \"receiving, accepting, admitting, having,\" \n",
      "from\n",
      "   <i>\n",
      "    paziroftan\n",
      "   </i>\n",
      "   \"to receive, accept, admit,\" Mid.Pers.\n",
      "   <i>\n",
      "    padiriftan, padir-\n",
      "   </i>\n",
      "   \"to receive, accept,\" from Proto-Iranian\n",
      "   <i>\n",
      "    *pati-\n",
      "   </i>\n",
      "   +\n",
      "   <i>\n",
      "    *grab-\n",
      "   </i>\n",
      "   \"to grab, seize, take,\" \n",
      "Av./O.Pers.\n",
      "   <i>\n",
      "    grab-\n",
      "   </i>\n",
      "   \"to take, seize;\" cp. \n",
      "Skt.\n",
      "   <i>\n",
      "    grah-, grabh-\n",
      "   </i>\n",
      "   \"to seize, take,\"\n",
      "   <i>\n",
      "    graha\n",
      "   </i>\n",
      "   \"seizing, holding, perceiving,\" M.L.G.\n",
      "   <i>\n",
      "    grabben\n",
      "   </i>\n",
      "   \"to grab,\" \n",
      "from P.Gmc.\n",
      "   <i>\n",
      "    *grab\n",
      "   </i>\n",
      "   (E.\n",
      "   <i>\n",
      "    grab\n",
      "   </i>\n",
      "   );  PIE\n",
      "   <i>\n",
      "    *ghrebh-\n",
      "   </i>\n",
      "   \"to seize.\"\n",
      "  </p>\n",
      " </td>\n",
      "</tr>\n",
      "\n"
     ]
    }
   ],
   "source": [
    "first = rows[0]\n",
    "# print(first.find(class_=\"marginTop ety_EN\").text)\n",
    "print(first.prettify())"
   ]
  },
  {
   "cell_type": "code",
   "execution_count": 18,
   "metadata": {},
   "outputs": [
    {
     "name": "stdout",
     "output_type": "stream",
     "text": [
      "<span class=\"term\">-able, -ble, -ible</span>\n"
     ]
    }
   ],
   "source": [
    "term = first.find(\"span\",class_=\"term\")\n",
    "term.text\n",
    "print(term)"
   ]
  },
  {
   "cell_type": "code",
   "execution_count": 16,
   "metadata": {},
   "outputs": [],
   "source": [
    "title_2 = first.find(\"div\",class_=\"title2\")\n",
    "\n",
    "\n",
    "with open(\"a.txt\",\"w\",encoding=\"utf-8\") as f:\n",
    "    f.write(title_2.text)"
   ]
  },
  {
   "cell_type": "code",
   "execution_count": 17,
   "metadata": {},
   "outputs": [
    {
     "name": "stdout",
     "output_type": "stream",
     "text": [
      "   -یی، -پذیر   \n"
     ]
    }
   ],
   "source": [
    "print(title_2.text)"
   ]
  },
  {
   "cell_type": "code",
   "execution_count": null,
   "metadata": {},
   "outputs": [],
   "source": [
    "# available_pages = soup.find_all(\"p\",\"center\")[0]\n",
    "# available_pages=available_pages.find_all(\"a\")\n",
    "# available_pages[1].text\n",
    "# bad = [\"\",\">\",\">>\"]\n",
    "# o =[]\n",
    "\n",
    "# for a in available_pages:\n",
    "    # if a.text not in bad:\n",
    "        # o.append(a[\"href\"])\n",
    "# [(a['href'],a.text) for a in available_pages]\n",
    "# o"
   ]
  }
 ],
 "metadata": {
  "kernelspec": {
   "display_name": "Python 3",
   "language": "python",
   "name": "python3"
  },
  "language_info": {
   "codemirror_mode": {
    "name": "ipython",
    "version": 3
   },
   "file_extension": ".py",
   "mimetype": "text/x-python",
   "name": "python",
   "nbconvert_exporter": "python",
   "pygments_lexer": "ipython3",
   "version": "3.11.2"
  },
  "orig_nbformat": 4,
  "vscode": {
   "interpreter": {
    "hash": "a3c8a9d0980b8b6049d21f7484dd729685befe36eed5a5dddc2ac65784886a73"
   }
  }
 },
 "nbformat": 4,
 "nbformat_minor": 2
}
